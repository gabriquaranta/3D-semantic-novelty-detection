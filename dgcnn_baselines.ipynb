{
  "cells": [
    {
      "cell_type": "code",
      "execution_count": null,
      "metadata": {
        "colab": {
          "base_uri": "https://localhost:8080/"
        },
        "id": "ZgsyPgayyUdn",
        "outputId": "0ecaf0d4-1bc7-49bf-d358-5185699635f0"
      },
      "outputs": [],
      "source": [
        "import torch\n",
        "print(torch.__version__)"
      ]
    },
    {
      "cell_type": "code",
      "execution_count": null,
      "metadata": {
        "colab": {
          "base_uri": "https://localhost:8080/"
        },
        "id": "xW4MFKkaVaJe",
        "outputId": "90a3d1e5-3ff8-4525-a182-5b802c477368"
      },
      "outputs": [],
      "source": [
        "# installing pointnet++\n",
        "!pip install ninja\n",
        "!git clone https://github.com/erikwijmans/Pointnet2_PyTorch\n",
        "%cd /content/Pointnet2_PyTorch\n",
        "!python setup.py install\n",
        "\n",
        "# moving to root directory\n",
        "%cd .."
      ]
    },
    {
      "cell_type": "code",
      "execution_count": null,
      "metadata": {
        "colab": {
          "base_uri": "https://localhost:8080/",
          "height": 1000
        },
        "id": "xvovuXg5Owul",
        "outputId": "b8ae8a7c-d743-47cc-c34b-4a9a779f6bf5"
      },
      "outputs": [],
      "source": [
        "# install minimal requirements (pytorch is already installed in colab)\n",
        "!pip install timm==0.5.4 wandb tqdm h5py==3.6.0 protobuf==3.20.1 lmdb==1.2.1 msgpack-numpy==0.4.7.1 scikit-learn"
      ]
    },
    {
      "cell_type": "code",
      "execution_count": null,
      "metadata": {
        "colab": {
          "base_uri": "https://localhost:8080/"
        },
        "id": "JTcB6Pf3KqvK",
        "outputId": "c3e0ce9d-1ba2-402e-b72a-08c828a4edc3"
      },
      "outputs": [],
      "source": [
        "# made a new repo for you starting from 3DOS with modifications to help you running the code with colab.\n",
        "!git clone https://github.com/antoalli/SemNov_AML_DAAI_23-24"
      ]
    },
    {
      "cell_type": "code",
      "execution_count": null,
      "metadata": {
        "colab": {
          "base_uri": "https://localhost:8080/"
        },
        "id": "p3OBAkz4W-z3",
        "outputId": "6f827f06-c35a-4cb5-c624-bb39db978121"
      },
      "outputs": [],
      "source": [
        "!ls"
      ]
    },
    {
      "cell_type": "code",
      "execution_count": null,
      "metadata": {
        "colab": {
          "base_uri": "https://localhost:8080/"
        },
        "id": "2eOK84HKLBHt",
        "outputId": "83fe2178-7b6d-42d5-9415-4bb2fe9db366"
      },
      "outputs": [],
      "source": [
        "# Move to the project directory after Git clone\n",
        "%cd /content/SemNov_AML_DAAI_23-24"
      ]
    },
    {
      "cell_type": "code",
      "execution_count": null,
      "metadata": {
        "colab": {
          "base_uri": "https://localhost:8080/"
        },
        "id": "DVcINAahYHP9",
        "outputId": "610bbb1c-e7b7-424a-bbdd-6801742d846b"
      },
      "outputs": [],
      "source": [
        "!ls /content/SemNov_AML_DAAI_23-24"
      ]
    },
    {
      "cell_type": "code",
      "execution_count": null,
      "metadata": {
        "colab": {
          "base_uri": "https://localhost:8080/"
        },
        "id": "AN5yi0DyQYiR",
        "outputId": "c4a546c7-bbab-470c-f232-3e3f202b7e85"
      },
      "outputs": [],
      "source": [
        "# check we're in project directory (should be SemNov_AML_DAAI_23)\n",
        "!pwd"
      ]
    },
    {
      "cell_type": "code",
      "execution_count": null,
      "metadata": {
        "colab": {
          "base_uri": "https://localhost:8080/"
        },
        "id": "spB7i3L36lv7",
        "outputId": "57a3a3bd-7ac5-4f96-9805-4d991276069d"
      },
      "outputs": [],
      "source": [
        "# knn-cuda in classifier was not not found\n",
        "!git clone https://github.com/unlimblue/KNN_CUDA.git\n",
        "%cd KNN_CUDA\n",
        "!make && make install"
      ]
    },
    {
      "cell_type": "code",
      "execution_count": null,
      "metadata": {
        "colab": {
          "base_uri": "https://localhost:8080/"
        },
        "id": "xNDO3bjbLMzJ",
        "outputId": "2b937b25-05d9-4da2-9ff3-1d94daee9beb"
      },
      "outputs": [],
      "source": [
        "!cd ..\n",
        "!sh download_data.sh"
      ]
    },
    {
      "cell_type": "markdown",
      "metadata": {},
      "source": [
        "# SR1"
      ]
    },
    {
      "cell_type": "code",
      "execution_count": null,
      "metadata": {},
      "outputs": [],
      "source": [
        "# training: DGCNN classifier on SR1\n",
        "!python classifiers/trainer_cla_md.py --config cfgs/dgcnn-cla.yaml --exp_name DGCNN_CE_SR1_wEVAL --src SR1 --loss CE --wandb_proj AML_DAAI_proj23_24_test"
      ]
    },
    {
      "cell_type": "code",
      "execution_count": null,
      "metadata": {},
      "outputs": [],
      "source": [
        "# evalualtion: DGCNN classifier on SR1\n",
        "!python classifiers/trainer_cla_md.py --config cfgs/dgcnn-cla.yaml --exp_name DGCNN_CE_SR1_EVAL --src SR1 --loss CE -mode eval --ckpt_path outputs/DGCNN_CE_SR1_wEVAL/models/model_last.pth"
      ]
    },
    {
      "cell_type": "markdown",
      "metadata": {},
      "source": [
        "# SR2"
      ]
    },
    {
      "cell_type": "code",
      "execution_count": null,
      "metadata": {
        "colab": {
          "base_uri": "https://localhost:8080/"
        },
        "id": "gmtGIMamOHAk",
        "outputId": "45029a04-be21-434d-cca8-b5cea0148e13"
      },
      "outputs": [],
      "source": [
        "# training: DGCNN classifier on SR2\n",
        "!python classifiers/trainer_cla_md.py --config cfgs/dgcnn-cla.yaml --exp_name DGCNN_CE_SR2_wEVAL --src SR2 --loss CE --wandb_proj AML_DAAI_proj23_24_test"
      ]
    },
    {
      "cell_type": "code",
      "execution_count": null,
      "metadata": {
        "colab": {
          "base_uri": "https://localhost:8080/"
        },
        "id": "wmXx43kf7oZ9",
        "outputId": "988db1e8-ba6a-4d42-e552-82fce941d67e"
      },
      "outputs": [],
      "source": [
        "# evalualtion: DGCNN classifier on SR2\n",
        "!python classifiers/trainer_cla_md.py --config cfgs/dgcnn-cla.yaml --exp_name DGCNN_CE_SR2_EVAL --src SR2 --loss CE -mode eval --ckpt_path outputs/DGCNN_CE_SR2_wEVAL/models/model_last.pth"
      ]
    }
  ],
  "metadata": {
    "accelerator": "GPU",
    "colab": {
      "provenance": []
    },
    "kernelspec": {
      "display_name": "Python 3",
      "name": "python3"
    },
    "language_info": {
      "name": "python"
    }
  },
  "nbformat": 4,
  "nbformat_minor": 0
}
