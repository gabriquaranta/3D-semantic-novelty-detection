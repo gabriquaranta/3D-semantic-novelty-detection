{
  "cells": [
    {
      "cell_type": "code",
      "execution_count": null,
      "metadata": {
        "colab": {
          "base_uri": "https://localhost:8080/"
        },
        "id": "Aq1pnVgHvvYP",
        "outputId": "c3088189-e57d-403f-dbff-fafa8a56a724"
      },
      "outputs": [],
      "source": [
        "!git clone https://github.com/gabriquaranta/3D-semantic-novelty-detection"
      ]
    },
    {
      "cell_type": "code",
      "execution_count": null,
      "metadata": {
        "colab": {
          "base_uri": "https://localhost:8080/"
        },
        "id": "T6GliqAwwJ-f",
        "outputId": "bd2297a9-0b5d-4ddb-b53d-9642bded5d05"
      },
      "outputs": [],
      "source": [
        "%cd 3D-semantic-novelty-detection/"
      ]
    },
    {
      "cell_type": "code",
      "execution_count": null,
      "metadata": {
        "colab": {
          "base_uri": "https://localhost:8080/"
        },
        "id": "gIVVKwohwGfa",
        "outputId": "0e41a8da-a092-4adf-ad5b-2e84a582b206"
      },
      "outputs": [],
      "source": [
        "!git lfs install\n",
        "!git clone https://huggingface.co/OpenShape/openshape-pointbert-vitg14-rgb"
      ]
    },
    {
      "cell_type": "code",
      "execution_count": null,
      "metadata": {
        "colab": {
          "base_uri": "https://localhost:8080/"
        },
        "id": "_2WSGQ7qwysn",
        "outputId": "9b22e2b3-e66c-4c01-8baa-e04bb4522dc0"
      },
      "outputs": [],
      "source": [
        "%cd SemNov_AML_DAAI_23-24-main/\n",
        "!sh download_data.sh"
      ]
    },
    {
      "cell_type": "code",
      "execution_count": null,
      "metadata": {
        "colab": {
          "base_uri": "https://localhost:8080/"
        },
        "id": "jIrsFNI2yqAb",
        "outputId": "938e1a23-e161-4027-85db-682358dc7f27"
      },
      "outputs": [],
      "source": [
        "!pip install \"https://github.com/unlimblue/KNN_CUDA/releases/download/0.2/KNN_CUDA-0.2-py3-none-any.whl\"\n"
      ]
    },
    {
      "cell_type": "code",
      "execution_count": null,
      "metadata": {
        "colab": {
          "base_uri": "https://localhost:8080/",
          "height": 1000
        },
        "id": "3iaENu_lyvRH",
        "outputId": "eec25898-98d2-4e9a-ce6d-7f203548e4ef"
      },
      "outputs": [],
      "source": [
        "!pip install -r requirements.txt"
      ]
    },
    {
      "cell_type": "code",
      "execution_count": null,
      "metadata": {
        "colab": {
          "base_uri": "https://localhost:8080/"
        },
        "id": "iicU8HjV1to4",
        "outputId": "299aa55d-92f9-4316-a34d-cdb5a6bff291"
      },
      "outputs": [],
      "source": [
        "!pip install huggingface_hub wandb omegaconf torch_redstone einops tqdm open3d ninja"
      ]
    },
    {
      "cell_type": "code",
      "execution_count": null,
      "metadata": {
        "id": "FhhQ3gu71wOl"
      },
      "outputs": [],
      "source": [
        "!pip install  dgl -f https://data.dgl.ai/wheels/cu121/repo.html"
      ]
    },
    {
      "cell_type": "markdown",
      "metadata": {},
      "source": [
        "# SR1"
      ]
    },
    {
      "cell_type": "code",
      "execution_count": null,
      "metadata": {
        "colab": {
          "base_uri": "https://localhost:8080/"
        },
        "id": "Xx_hCH8b1VKf",
        "outputId": "39518ce7-6ff9-4d26-8adb-880f68ecdde8"
      },
      "outputs": [],
      "source": [
        "!python classifiers/trainer_openshape.py --config cfgs/openshape.yaml --exp_name os_sr1 --src SR1 --loss CE -mode eval --ckpt_path /content/3D-semantic-novelty-detection/openshape-pointbert-vitg14-rgb/model.pt"
      ]
    },
    {
      "cell_type": "markdown",
      "metadata": {},
      "source": [
        "# SR2"
      ]
    },
    {
      "cell_type": "code",
      "execution_count": null,
      "metadata": {},
      "outputs": [],
      "source": [
        "!python classifiers/trainer_openshape.py --config cfgs/openshape.yaml --exp_name os_sr2 --src SR2 --loss CE -mode eval --ckpt_path /content/3D-semantic-novelty-detection/openshape-pointbert-vitg14-rgb/model.pt"
      ]
    }
  ],
  "metadata": {
    "accelerator": "GPU",
    "colab": {
      "gpuType": "T4",
      "provenance": []
    },
    "kernelspec": {
      "display_name": "Python 3",
      "name": "python3"
    },
    "language_info": {
      "name": "python"
    }
  },
  "nbformat": 4,
  "nbformat_minor": 0
}
