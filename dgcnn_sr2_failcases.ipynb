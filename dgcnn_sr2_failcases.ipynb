{
  "cells": [
    {
      "cell_type": "code",
      "execution_count": null,
      "metadata": {
        "colab": {
          "base_uri": "https://localhost:8080/"
        },
        "id": "Uq29T4EH2xjP",
        "outputId": "1e1b9f1a-a6fe-4f2e-b48b-27f203e65f22"
      },
      "outputs": [],
      "source": [
        "!git clone https://github.com/gabriquaranta/3D-semantic-novelty-detection"
      ]
    },
    {
      "cell_type": "code",
      "execution_count": null,
      "metadata": {
        "colab": {
          "base_uri": "https://localhost:8080/"
        },
        "id": "p2oCA5Lc2xjR",
        "outputId": "6d27336d-8cda-4010-cd2a-046c292d851c"
      },
      "outputs": [],
      "source": [
        "%cd 3D-semantic-novelty-detection/SemNov_AML_DAAI_23-24-main/"
      ]
    },
    {
      "cell_type": "code",
      "execution_count": null,
      "metadata": {
        "colab": {
          "base_uri": "https://localhost:8080/"
        },
        "id": "HUxlRI2a2xjR",
        "outputId": "01698299-7b7d-47a8-8c45-75833d683318"
      },
      "outputs": [],
      "source": [
        "!git clone https://github.com/unlimblue/KNN_CUDA.git\n",
        "%cd KNN_CUDA\n",
        "!make && make install\n",
        "%cd .."
      ]
    },
    {
      "cell_type": "code",
      "execution_count": null,
      "metadata": {
        "colab": {
          "base_uri": "https://localhost:8080/",
          "height": 1000
        },
        "id": "OOoOdwSo2xjR",
        "outputId": "b2521aa5-a771-4563-88df-0bc5bfee13a8"
      },
      "outputs": [],
      "source": [
        "!pip install timm==0.5.4 wandb tqdm h5py==3.6.0 protobuf==3.20.1 lmdb==1.2.1 msgpack-numpy==0.4.7.1 scikit-learn ninja torch-redstone einops"
      ]
    },
    {
      "cell_type": "code",
      "execution_count": null,
      "metadata": {
        "colab": {
          "base_uri": "https://localhost:8080/"
        },
        "id": "ufKUDvIe6mPK",
        "outputId": "636066e5-5168-414e-8929-e2e1330f0d0d"
      },
      "outputs": [],
      "source": [
        "!pip install  dgl -f https://data.dgl.ai/wheels/cu121/repo.html"
      ]
    },
    {
      "cell_type": "code",
      "execution_count": null,
      "metadata": {
        "colab": {
          "base_uri": "https://localhost:8080/"
        },
        "id": "bEweraWJ2xjR",
        "outputId": "1bbb8b6c-f77b-4a9d-a400-c352b4cdddce"
      },
      "outputs": [],
      "source": [
        "!sh download_data.sh"
      ]
    },
    {
      "cell_type": "markdown",
      "metadata": {},
      "source": [
        "# SR2"
      ]
    },
    {
      "cell_type": "code",
      "execution_count": null,
      "metadata": {
        "id": "f-lveVlO2xjS"
      },
      "outputs": [],
      "source": [
        "# training: DGCNN classifier on SR2 -> checkpoint for dgcnn trained on rs2 is available\n",
        "#!python classifiers/trainer_cla_md.py --config cfgs/dgcnn-cla.yaml --exp_name DGCNN_CE_SR2_wEVAL --src SR2 --loss CE --wandb_proj AML_DAAI_proj23_24_test"
      ]
    },
    {
      "cell_type": "code",
      "execution_count": null,
      "metadata": {
        "colab": {
          "base_uri": "https://localhost:8080/"
        },
        "id": "7ls-PwNH2xjS",
        "outputId": "c567d022-f8ce-495e-9a07-6ce2bdfe974e"
      },
      "outputs": [],
      "source": [
        "# evalualtion: DGCNN classifier on SR2\n",
        "!python classifiers/trainer_cla_md_FAILCASES_2.py --config cfgs/dgcnn-cla.yaml --exp_name DGCNN_CE_SR2_EVAL --src SR2 --loss CE -mode eval --ckpt_path model_last_dgcnn_sr2.pth"
      ]
    }
  ],
  "metadata": {
    "accelerator": "GPU",
    "colab": {
      "gpuType": "T4",
      "provenance": []
    },
    "kernelspec": {
      "display_name": "Python 3",
      "name": "python3"
    },
    "language_info": {
      "name": "python"
    }
  },
  "nbformat": 4,
  "nbformat_minor": 0
}
