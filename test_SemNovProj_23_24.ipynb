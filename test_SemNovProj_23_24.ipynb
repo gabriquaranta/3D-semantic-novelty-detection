{
  "cells": [
    {
      "cell_type": "code",
      "execution_count": null,
      "metadata": {
        "colab": {
          "base_uri": "https://localhost:8080/"
        },
        "id": "ZgsyPgayyUdn",
        "outputId": "daac9f00-021e-4fbd-cde2-482675aee3af"
      },
      "outputs": [],
      "source": [
        "import torch\n",
        "print(torch.__version__)"
      ]
    },
    {
      "cell_type": "code",
      "execution_count": null,
      "metadata": {},
      "outputs": [],
      "source": [
        "# knn-cuda \n",
        "!git clone https://github.com/unlimblue/KNN_CUDA.git\n",
        "%cd KNN_CUDA\n",
        "!make && make install"
      ]
    },
    {
      "cell_type": "code",
      "execution_count": null,
      "metadata": {
        "colab": {
          "base_uri": "https://localhost:8080/"
        },
        "id": "xW4MFKkaVaJe",
        "outputId": "519a833b-d34c-45f0-f121-8ab4035cd082"
      },
      "outputs": [],
      "source": [
        "# installing pointnet++\n",
        "!pip install ninja\n",
        "!git clone https://github.com/erikwijmans/Pointnet2_PyTorch\n",
        "%cd /content/Pointnet2_PyTorch\n",
        "!python setup.py install\n",
        "\n",
        "# moving to root directory\n",
        "%cd .."
      ]
    },
    {
      "cell_type": "code",
      "execution_count": null,
      "metadata": {
        "colab": {
          "base_uri": "https://localhost:8080/"
        },
        "id": "xvovuXg5Owul",
        "outputId": "041bb332-de42-4888-e770-22c04b83c5a8"
      },
      "outputs": [],
      "source": [
        "# install minimal requirements (pytorch is already installed in colab)\n",
        "!pip install timm==0.5.4 wandb tqdm h5py==3.6.0 protobuf==3.20.1 lmdb==1.2.1 msgpack-numpy==0.4.7.1 scikit-learn"
      ]
    },
    {
      "cell_type": "code",
      "execution_count": null,
      "metadata": {
        "colab": {
          "base_uri": "https://localhost:8080/"
        },
        "id": "JTcB6Pf3KqvK",
        "outputId": "c9a96078-bd87-4ad9-9f65-d268c93c7bcd"
      },
      "outputs": [],
      "source": [
        "# made a new repo for you starting from 3DOS with modifications to help you running the code with colab.\n",
        "!git clone https://github.com/antoalli/SemNov_AML_DAAI_23-24"
      ]
    },
    {
      "cell_type": "code",
      "execution_count": null,
      "metadata": {
        "colab": {
          "base_uri": "https://localhost:8080/"
        },
        "id": "p3OBAkz4W-z3",
        "outputId": "43eee7ec-e7ce-4827-9996-b0d184e2a381"
      },
      "outputs": [],
      "source": [
        "!ls"
      ]
    },
    {
      "cell_type": "code",
      "execution_count": null,
      "metadata": {
        "colab": {
          "base_uri": "https://localhost:8080/"
        },
        "id": "2eOK84HKLBHt",
        "outputId": "4205f48e-25b9-49ef-d855-e1475f649fbc"
      },
      "outputs": [],
      "source": [
        "# Move to the project directory after Git clone\n",
        "%cd /content/SemNov_AML_DAAI_23-24"
      ]
    },
    {
      "cell_type": "code",
      "execution_count": null,
      "metadata": {
        "colab": {
          "base_uri": "https://localhost:8080/"
        },
        "id": "DVcINAahYHP9",
        "outputId": "3ecf2835-57cd-44af-e847-cb1f3e457ea2"
      },
      "outputs": [],
      "source": [
        "!ls /content/SemNov_AML_DAAI_23-24"
      ]
    },
    {
      "cell_type": "code",
      "execution_count": null,
      "metadata": {
        "colab": {
          "base_uri": "https://localhost:8080/"
        },
        "id": "AN5yi0DyQYiR",
        "outputId": "0d1d4fb2-7f24-481e-b733-8869455ea9d4"
      },
      "outputs": [],
      "source": [
        "# check we're in project directory (should be SemNov_AML_DAAI_23)\n",
        "!pwd"
      ]
    },
    {
      "cell_type": "code",
      "execution_count": null,
      "metadata": {
        "colab": {
          "base_uri": "https://localhost:8080/"
        },
        "id": "xNDO3bjbLMzJ",
        "outputId": "c2518bc5-f754-4a32-8c19-6aa9eb3e5937"
      },
      "outputs": [],
      "source": [
        "!sh download_data.sh"
      ]
    },
    {
      "cell_type": "code",
      "execution_count": null,
      "metadata": {},
      "outputs": [],
      "source": [
        "# DGCNN baselines\n",
        "do_baselines_SR1=False\n",
        "do_baselines_SR2=False\n",
        "\n",
        "# training: DGCNN classifier on SR1\n",
        "if do_baselines_SR1:\n",
        "    !python classifiers/trainer_cla_md.py --config cfgs/dgcnn-cla.yaml --exp_name DGCNN_CE_SR1_wEVAL --src SR1 --loss CE --wandb_proj AML_DAAI_proj23_24_test\n",
        "# evalualtion: DGCNN classifier on SR1\n",
        "if do_baselines_SR1:\n",
        "    !python classifiers/trainer_cla_md.py --config cfgs/dgcnn-cla.yaml --exp_name DGCNN_CE_SR1_EVAL --src SR1 --loss CE -mode eval --ckpt_path outputs/DGCNN_CE_SR1_wEVAL/models/model_last.pth\n",
        "# training: DGCNN classifier on SR2\n",
        "if do_baselines_SR2:\n",
        "    !python classifiers/trainer_cla_md.py --config cfgs/dgcnn-cla.yaml --exp_name DGCNN_CE_SR2_wEVAL --src SR2 --loss CE --wandb_proj AML_DAAI_proj23_24_test\n",
        "# evalualtion: DGCNN classifier on SR2\n",
        "if do_baselines_SR2:\n",
        "    !python classifiers/trainer_cla_md.py --config cfgs/dgcnn-cla.yaml --exp_name DGCNN_CE_SR2_EVAL --src SR2 --loss CE -mode eval --ckpt_path outputs/DGCNN_CE_SR2_wEVAL/models/model_last.pth"
      ]
    }
  ],
  "metadata": {
    "accelerator": "GPU",
    "colab": {
      "provenance": []
    },
    "kernelspec": {
      "display_name": "Python 3",
      "name": "python3"
    },
    "language_info": {
      "name": "python"
    }
  },
  "nbformat": 4,
  "nbformat_minor": 0
}
